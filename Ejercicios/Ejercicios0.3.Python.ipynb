{
 "cells": [
  {
   "cell_type": "markdown",
   "metadata": {},
   "source": [
    "Ejercicios del apartado Introducción-Python"
   ]
  },
  {
   "cell_type": "code",
   "execution_count": 11,
   "metadata": {},
   "outputs": [],
   "source": [
    "#Librerías \n",
    "from math import *\n",
    "import cmath"
   ]
  },
  {
   "cell_type": "markdown",
   "metadata": {},
   "source": [
    "Ejercicio 1"
   ]
  },
  {
   "cell_type": "code",
   "execution_count": 4,
   "metadata": {},
   "outputs": [
    {
     "name": "stdout",
     "output_type": "stream",
     "text": [
      "La temperatura de ebullición del agua en grados Farenheit es de 212 grados.\n",
      "La temperatura de congelación del agua en grados Farenheit es de 32 grados.\n",
      "La temperatura del punto triple del agua en grados Farenheit es de 32.0176\n"
     ]
    }
   ],
   "source": [
    "#Ejercicio 1\n",
    "def Farenheit(Celsius): #Función que convierte grados Celisus a Farenheit\n",
    "    Farenheit = (Celsius*(9/5))+32\n",
    "    return Farenheit\n",
    "\n",
    "T_Ebu = 100 # Temperatura de ebullición del agua en Celsius\n",
    "T_Cong = 0  #Temperatura de congelación del agua en Celsius\n",
    "P_Triple = 0.0098 #Temperatura del punto triple del agua en Celsius\n",
    "\n",
    "print(\"La temperatura de ebullición del agua en grados Farenheit es de %g grados.\" %Farenheit(T_Ebu))\n",
    "print(\"La temperatura de congelación del agua en grados Farenheit es de %g grados.\" %Farenheit(T_Cong))\n",
    "print(\"La temperatura del punto triple del agua en grados Farenheit es de %.4f\" %Farenheit(P_Triple))"
   ]
  },
  {
   "cell_type": "markdown",
   "metadata": {},
   "source": [
    "Ejercicio 2"
   ]
  },
  {
   "cell_type": "code",
   "execution_count": 22,
   "metadata": {},
   "outputs": [
    {
     "name": "stdout",
     "output_type": "stream",
     "text": [
      "El valor de sinh(2pi) usando la función sinh(x) es 267.7449\n",
      "El valor de sinh(2pi) usando la forma exponencial de sinh(x) es 267.7449\n",
      "El valor de sinh(2pi) usando exponentes en la forma exponencial de sinh(x) es 267.7449\n"
     ]
    }
   ],
   "source": [
    "#Ejercicio 2\n",
    "Sinh1 = sinh(2*pi)  #Función sinh(x)\n",
    "Sinh2 = (exp(2*pi)-exp(-2*pi))/2 #sinh(x) con exponenciales\n",
    "Sinh3 = (e**(2*pi)-e**(-2*pi))/2 #sinh(x) con exponentes\n",
    "\n",
    "print(\"El valor de sinh(2pi) usando la función sinh(x) es %.4f\" %Sinh1)\n",
    "print(\"El valor de sinh(2pi) usando la forma exponencial de sinh(x) es %.4f\" %Sinh2)\n",
    "print(\"El valor de sinh(2pi) usando exponentes en la forma exponencial de sinh(x) es %.4f\" %Sinh3)"
   ]
  },
  {
   "cell_type": "markdown",
   "metadata": {},
   "source": [
    "Ejercicio 3"
   ]
  },
  {
   "cell_type": "code",
   "execution_count": 26,
   "metadata": {},
   "outputs": [
    {
     "name": "stdout",
     "output_type": "stream",
     "text": [
      "Tenemos que el valor para la exponencial compleja en x=1.34 es de (0.22875280780845939+0.9734845416953194j) ,\n",
      "y para la forma seno-coseno es (0.22875280780845939+0.9734845416953194j)\n",
      "\n",
      "Tenemos que el valor para la exponencial compleja en x=6.75 es de (0.8930063446890767+0.4500440737806176j) ,\n",
      "y para la forma seno-coseno es (0.8930063446890767+0.4500440737806176j)\n",
      "\n",
      "Tenemos que el valor para la exponencial compleja en x=3.14159 es de (-1+1.2246467991473532e-16j) ,\n",
      "y para la forma seno-coseno es (-1+1.2246467991473532e-16j)\n"
     ]
    }
   ],
   "source": [
    "#Ejercicio 3.2\n",
    "\n",
    "#Valores de prueba\n",
    "x_1 = 1.34\n",
    "x_2 = 6.75\n",
    "x_3 = pi\n",
    "\n",
    "#Valores de la exponencial compleja\n",
    "Exp1 = cmath.exp(1j*x_1)\n",
    "Exp2 = cmath.exp(1j*x_2)\n",
    "Exp3 = cmath.exp(1j*x_3)\n",
    "\n",
    "#Valores de seno y coseno\n",
    "SinCos1 = cos(x_1)+1j*sin(x_1)\n",
    "SinCos2 = cos(x_2)+1j*sin(x_2)\n",
    "SinCos3 = cos(x_3)+1j*sin(x_3)\n",
    "\n",
    "print(\"Tenemos que el valor para la exponencial compleja en x=%g es de\"%x_1, Exp1,\",\")\n",
    "print(\"y para la forma seno-coseno es\", SinCos1)\n",
    "print()\n",
    "print(\"Tenemos que el valor para la exponencial compleja en x=%g es de\"%x_2, Exp2,\",\")\n",
    "print(\"y para la forma seno-coseno es\", SinCos2)\n",
    "print()\n",
    "print(\"Tenemos que el valor para la exponencial compleja en x=%g es de\"%x_3, Exp3,\",\")\n",
    "print(\"y para la forma seno-coseno es\", SinCos3)\n"
   ]
  },
  {
   "cell_type": "code",
   "execution_count": null,
   "metadata": {},
   "outputs": [],
   "source": [
    "a="
   ]
  }
 ],
 "metadata": {
  "kernelspec": {
   "display_name": "py310",
   "language": "python",
   "name": "python3"
  },
  "language_info": {
   "codemirror_mode": {
    "name": "ipython",
    "version": 3
   },
   "file_extension": ".py",
   "mimetype": "text/x-python",
   "name": "python",
   "nbconvert_exporter": "python",
   "pygments_lexer": "ipython3",
   "version": "3.10.14"
  }
 },
 "nbformat": 4,
 "nbformat_minor": 2
}
