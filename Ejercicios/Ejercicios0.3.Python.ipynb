{
 "cells": [
  {
   "cell_type": "markdown",
   "metadata": {},
   "source": [
    "Ejercicios del apartado Introducción-Python"
   ]
  },
  {
   "cell_type": "code",
   "execution_count": 23,
   "metadata": {},
   "outputs": [],
   "source": [
    "#Librerías \n",
    "from math import *\n",
    "import cmath\n",
    "import numpy as np\n",
    "import matplotlib.pyplot as plt"
   ]
  },
  {
   "cell_type": "markdown",
   "metadata": {},
   "source": [
    "Ejercicio 1"
   ]
  },
  {
   "cell_type": "code",
   "execution_count": 1,
   "metadata": {},
   "outputs": [
    {
     "name": "stdout",
     "output_type": "stream",
     "text": [
      "La temperatura de ebullición del agua en grados Farenheit es de 212 grados.\n",
      "La temperatura de congelación del agua en grados Farenheit es de 32 grados.\n",
      "La temperatura del punto triple del agua en grados Farenheit es de 32.0176\n"
     ]
    }
   ],
   "source": [
    "#Ejercicio 1\n",
    "def Farenheit(Celsius): #Función que convierte grados Celisus a Farenheit\n",
    "    Farenheit = (Celsius*(9/5))+32\n",
    "    return Farenheit\n",
    "\n",
    "T_Ebu = 100 # Temperatura de ebullición del agua en Celsius\n",
    "T_Cong = 0  #Temperatura de congelación del agua en Celsius\n",
    "P_Triple = 0.0098 #Temperatura del punto triple del agua en Celsius\n",
    "\n",
    "print(\"La temperatura de ebullición del agua en grados Farenheit es de %g grados.\" %Farenheit(T_Ebu))\n",
    "print(\"La temperatura de congelación del agua en grados Farenheit es de %g grados.\" %Farenheit(T_Cong))\n",
    "print(\"La temperatura del punto triple del agua en grados Farenheit es de %.4f\" %Farenheit(P_Triple))"
   ]
  },
  {
   "cell_type": "markdown",
   "metadata": {},
   "source": [
    "Ejercicio 2"
   ]
  },
  {
   "cell_type": "code",
   "execution_count": 22,
   "metadata": {},
   "outputs": [
    {
     "name": "stdout",
     "output_type": "stream",
     "text": [
      "El valor de sinh(2pi) usando la función sinh(x) es 267.7449\n",
      "El valor de sinh(2pi) usando la forma exponencial de sinh(x) es 267.7449\n",
      "El valor de sinh(2pi) usando exponentes en la forma exponencial de sinh(x) es 267.7449\n"
     ]
    }
   ],
   "source": [
    "#Ejercicio 2\n",
    "Sinh1 = sinh(2*pi)  #Función sinh(x)\n",
    "Sinh2 = (exp(2*pi)-exp(-2*pi))/2 #sinh(x) con exponenciales\n",
    "Sinh3 = (e**(2*pi)-e**(-2*pi))/2 #sinh(x) con exponentes\n",
    "\n",
    "print(\"El valor de sinh(2pi) usando la función sinh(x) es %.4f\" %Sinh1)\n",
    "print(\"El valor de sinh(2pi) usando la forma exponencial de sinh(x) es %.4f\" %Sinh2)\n",
    "print(\"El valor de sinh(2pi) usando exponentes en la forma exponencial de sinh(x) es %.4f\" %Sinh3)"
   ]
  },
  {
   "cell_type": "markdown",
   "metadata": {},
   "source": [
    "Ejercicio 3"
   ]
  },
  {
   "cell_type": "code",
   "execution_count": 4,
   "metadata": {},
   "outputs": [
    {
     "name": "stdout",
     "output_type": "stream",
     "text": [
      "Tenemos que el valor para el seno complejo en x=1.34 es de 1.778598918393005j ,\n",
      "y para el valor con el seno hiperbólico es 1.778598918393005j\n",
      "\n",
      "Tenemos que el valor para el seno complejo en x=1.34 es de 427.0287958232654j ,\n",
      "y para el valor con el seno hiperbólico es 427.0287958232654j\n",
      "\n",
      "Tenemos que el valor para el seno complejo en x=1.34 es de 11.548739357257748j ,\n",
      "y para el valor con el seno hiperbólico es 11.548739357257748j\n"
     ]
    }
   ],
   "source": [
    "#Ejercicio 3.2\n",
    "\n",
    "#Valores de prueba\n",
    "x_1 = 1.34\n",
    "x_2 = 6.75\n",
    "x_3 = pi\n",
    "\n",
    "#Valores del seno complejo\n",
    "sin1 = cmath.sin(1j*x_1)\n",
    "sin2 = cmath.sin(1j*x_2)\n",
    "sin3 = cmath.sin(1j*x_3)\n",
    "\n",
    "#Valores del seno hiperbólico\n",
    "sinh1 = 1j*sinh(x_1)\n",
    "sinh2 = 1j*sinh(x_2)\n",
    "sinh3 = 1j*sinh(x_3)\n",
    "\n",
    "print(\"Tenemos que el valor para el seno complejo en x=%g es de\"%x_1, sin1,\",\")\n",
    "print(\"y para el valor con el seno hiperbólico es\", sinh1)\n",
    "print()\n",
    "print(\"Tenemos que el valor para el seno complejo en x=%g es de\"%x_1, sin2,\",\")\n",
    "print(\"y para el valor con el seno hiperbólico es\", sinh2)\n",
    "print()\n",
    "print(\"Tenemos que el valor para el seno complejo en x=%g es de\"%x_1, sin3,\",\")\n",
    "print(\"y para el valor con el seno hiperbólico es\", sinh3)\n"
   ]
  },
  {
   "cell_type": "code",
   "execution_count": 26,
   "metadata": {},
   "outputs": [
    {
     "name": "stdout",
     "output_type": "stream",
     "text": [
      "Tenemos que el valor para la exponencial compleja en x=1.34 es de (0.22875280780845939+0.9734845416953194j) ,\n",
      "y para la forma seno-coseno es (0.22875280780845939+0.9734845416953194j)\n",
      "\n",
      "Tenemos que el valor para la exponencial compleja en x=6.75 es de (0.8930063446890767+0.4500440737806176j) ,\n",
      "y para la forma seno-coseno es (0.8930063446890767+0.4500440737806176j)\n",
      "\n",
      "Tenemos que el valor para la exponencial compleja en x=3.14159 es de (-1+1.2246467991473532e-16j) ,\n",
      "y para la forma seno-coseno es (-1+1.2246467991473532e-16j)\n"
     ]
    }
   ],
   "source": [
    "#Ejercicio 3.2\n",
    "\n",
    "#Valores de prueba\n",
    "x_1 = 1.34\n",
    "x_2 = 6.75\n",
    "x_3 = pi\n",
    "\n",
    "#Valores de la exponencial compleja\n",
    "Exp1 = cmath.exp(1j*x_1)\n",
    "Exp2 = cmath.exp(1j*x_2)\n",
    "Exp3 = cmath.exp(1j*x_3)\n",
    "\n",
    "#Valores de seno y coseno\n",
    "SinCos1 = cos(x_1)+1j*sin(x_1)\n",
    "SinCos2 = cos(x_2)+1j*sin(x_2)\n",
    "SinCos3 = cos(x_3)+1j*sin(x_3)\n",
    "\n",
    "print(\"Tenemos que el valor para la exponencial compleja en x=%g es de\"%x_1, Exp1,\",\")\n",
    "print(\"y para la forma seno-coseno es\", SinCos1)\n",
    "print()\n",
    "print(\"Tenemos que el valor para la exponencial compleja en x=%g es de\"%x_2, Exp2,\",\")\n",
    "print(\"y para la forma seno-coseno es\", SinCos2)\n",
    "print()\n",
    "print(\"Tenemos que el valor para la exponencial compleja en x=%g es de\"%x_3, Exp3,\",\")\n",
    "print(\"y para la forma seno-coseno es\", SinCos3)\n"
   ]
  },
  {
   "cell_type": "markdown",
   "metadata": {},
   "source": [
    "Ejercicio 4"
   ]
  },
  {
   "cell_type": "code",
   "execution_count": 18,
   "metadata": {},
   "outputs": [
    {
     "name": "stdout",
     "output_type": "stream",
     "text": [
      "Las raíces del polinomio f(x)=(1)x²+(1)x+(1) son\n",
      "z1= (-0.5+0.8660254037844386j) y z2= (-0.5-0.8660254037844386j)\n",
      "\n",
      "Las raíces del polinomio f(x)=(2)x²+(5)x+(3) son\n",
      "z1= -1.0 y z2= -1.5\n",
      "\n",
      "La raíz del polinomio f(x)=(3)x²+(12)x+(12) es\n",
      "z= -2.0\n"
     ]
    }
   ],
   "source": [
    "#Ejercicio 4\n",
    "from numpy.lib.scimath import *\n",
    "\n",
    "a_1, a_2, a_3 = 1, 2, 3  #Coeficientes de a\n",
    "b_1, b_2, b_3 = 1, 5, 12 #Coeficientes de b\n",
    "c_1, c_2, c_3 = 1, 3, 12 #Coeficientes de c\n",
    "\n",
    "def z_pm (a,b,c): # Raíz del polinomio\n",
    "    det = sqrt(b**2-4*a*c)\n",
    "    if det == 0: #Una sola raíz repetida\n",
    "        z_pm=(-b)/(2*a)\n",
    "        return z_pm\n",
    "    else:        #Raices distintas reales o complejas\n",
    "        z_pm1=(-b+det)/(2*a) \n",
    "        z_pm2=(-b-det)/(2*a)\n",
    "        return z_pm1, z_pm2 \n",
    "\n",
    "print(\"Las raíces del polinomio f(x)=(%g)x²+(%g)x+(%g) son\" %(a_1,b_1,c_1))  \n",
    "z1, z2 = z_pm(a_1,b_1,c_1) \n",
    "print(\"z1=\",z1,\"y z2=\", z2)\n",
    "print()\n",
    "print(\"Las raíces del polinomio f(x)=(%g)x²+(%g)x+(%g) son\" %(a_2,b_2,c_2))  \n",
    "z1, z2 = z_pm(a_2,b_2,c_2) \n",
    "print(\"z1=\",z1,\"y z2=\", z2)\n",
    "print()\n",
    "print(\"La raíz del polinomio f(x)=(%g)x²+(%g)x+(%g) es\" %(a_3,b_3,c_3))\n",
    "z=z_pm(a_3,b_3,c_3)\n",
    "print(\"z=\",z)"
   ]
  },
  {
   "cell_type": "markdown",
   "metadata": {},
   "source": [
    "Ejercicio 5"
   ]
  },
  {
   "cell_type": "code",
   "execution_count": 68,
   "metadata": {},
   "outputs": [
    {
     "name": "stdout",
     "output_type": "stream",
     "text": [
      "Tenemos que para una altura inicial de y0=0.0000 m, un ángulo de lanzamiento de theta=0.7854 radianes,\n",
      "una velocidad inicial de v0=10.0000 m/s y aceleración gravitatoria de g=9.81 m/s**2;\n",
      "Los valores de la trayectoria son\n",
      "----------------------------------\n",
      "    x(m)         y(m)\n",
      "----------------------------------\n",
      "    0.0          0.0000\n",
      "    0.5          0.4755\n",
      "    1.0          0.9019\n",
      "    1.5          1.2793\n",
      "    2.0          1.6076\n",
      "    2.5          1.8869\n",
      "    3.0          2.1171\n",
      "    3.5          2.2983\n",
      "    4.0          2.4304\n",
      "    4.5          2.5135\n",
      "    5.0          2.5475\n",
      "    5.5          2.5325\n",
      "    6.0          2.4684\n",
      "    6.5          2.3553\n",
      "    7.0          2.1931\n",
      "    7.5          1.9819\n",
      "    8.0          1.7216\n",
      "    8.5          1.4123\n",
      "    9.0          1.0539\n",
      "    9.5          0.6465\n"
     ]
    },
    {
     "data": {
      "image/png": "[encoded data removed]",
      "text/plain": [
       "<Figure size 640x480 with 1 Axes>"
      ]
     },
     "metadata": {},
     "output_type": "display_data"
    },
    {
     "name": "stdout",
     "output_type": "stream",
     "text": [
      "Tenemos que para una altura inicial de y0=5.0000 m, un ángulo de lanzamiento de theta=0.5236 radianes,\n",
      "una velocidad inicial de v0=8.0000 m/s y aceleración gravitatoria de g=9.81 m/s**2;\n",
      "Los valores de la trayectoria son\n",
      "----------------------------------\n",
      "    x(m)         y(m)\n",
      "----------------------------------\n",
      "    0.0          5.0000\n",
      "    0.5          5.2631\n",
      "    1.0          5.4752\n",
      "    1.5          5.6361\n",
      "    2.0          5.7460\n",
      "    2.5          5.8047\n",
      "    3.0          5.8124\n",
      "    3.5          5.7689\n",
      "    4.0          5.6744\n",
      "    4.5          5.5288\n",
      "    5.0          5.3321\n",
      "    5.5          5.0843\n",
      "    6.0          4.7854\n",
      "    6.5          4.4354\n",
      "    7.0          4.0343\n",
      "    7.5          3.5821\n",
      "    8.0          3.0788\n",
      "    8.5          2.5244\n",
      "    9.0          1.9190\n",
      "    9.5          1.2624\n"
     ]
    },
    {
     "data": {
      "image/png": "[encoded data removed]",
      "text/plain": [
       "<Figure size 640x480 with 1 Axes>"
      ]
     },
     "metadata": {},
     "output_type": "display_data"
    }
   ],
   "source": [
    "#Ejercicio 5\n",
    "g= 9.81 #Aceleración gravitatoria\n",
    "def altura(y0,v0,theta,x):  #Altura en función de la distancia en el tiro parabólico\n",
    "    altura = x*tan(theta)-((g)/(2*v0**2))*((x**2)/((cos(theta))**2))+y0\n",
    "    return altura\n",
    "\n",
    "y0_1 = 0 #Altura inicial 1\n",
    "v0_1 = 10 #Velocidad inicial\n",
    "theta1 = pi/4 #Ángulo inicial\n",
    "x_1 = np.arange(0,10,0.5)\n",
    "y_1 = []\n",
    "print(\"Tenemos que para una altura inicial de y0=%.4f m, un ángulo de lanzamiento de theta=%.4f radianes,\" %(y0_1,theta1))\n",
    "print(\"una velocidad inicial de v0=%.4f m/s y aceleración gravitatoria de g=%g m/s**2;\" %(v0_1,g))\n",
    "print(\"Los valores de la trayectoria son\")\n",
    "print(\"----------------------------------\")\n",
    "print(\"    x(m)         y(m)\")\n",
    "print(\"----------------------------------\")\n",
    "for i in range(len(x_1)):\n",
    "    print(\"   \",x_1[i],\"         %.4f\" %altura(y0_1,v0_1,theta1,x_1[i]))\n",
    "    y_1.append(altura(y0_1,v0_1,theta1,x_1[i]))\n",
    "\n",
    "plt.plot(x_1,y_1)  #Gráfica Altura-Distancia\n",
    "plt.xlabel(r'Distancia $(m)$')\n",
    "plt.ylabel(r'Altura $(m)$')\n",
    "plt.show()\n",
    "\n",
    "y0_2 = 5 #Altura inicial 1\n",
    "v0_2 = 8 #Velocidad inicial\n",
    "theta2 = pi/6 #Ángulo inicial\n",
    "x_2 = np.arange(0,10,0.5)\n",
    "y_2 = []\n",
    "print(\"Tenemos que para una altura inicial de y0=%.4f m, un ángulo de lanzamiento de theta=%.4f radianes,\" %(y0_2,theta2))\n",
    "print(\"una velocidad inicial de v0=%.4f m/s y aceleración gravitatoria de g=%g m/s**2;\" %(v0_2,g))\n",
    "print(\"Los valores de la trayectoria son\")\n",
    "print(\"----------------------------------\")\n",
    "print(\"    x(m)         y(m)\")\n",
    "print(\"----------------------------------\")\n",
    "for i in range(len(x_2)):\n",
    "    print(\"   \",x_2[i],\"         %.4f\" %altura(y0_2,v0_2,theta2,x_2[i]))\n",
    "    y_2.append(altura(y0_2,v0_2,theta2,x_2[i]))\n",
    "\n",
    "plt.plot(x_2,y_2)  #Gráfica Altura-Distancia\n",
    "plt.xlabel(r'Distancia $(m)$')\n",
    "plt.ylabel(r'Altura $(m)$')\n",
    "plt.show()"
   ]
  }
 ],
 "metadata": {
  "kernelspec": {
   "display_name": "py310",
   "language": "python",
   "name": "python3"
  },
  "language_info": {
   "codemirror_mode": {
    "name": "ipython",
    "version": 3
   },
   "file_extension": ".py",
   "mimetype": "text/x-python",
   "name": "python",
   "nbconvert_exporter": "python",
   "pygments_lexer": "ipython3",
   "version": "3.10.14"
  }
 },
 "nbformat": 4,
 "nbformat_minor": 2
}
